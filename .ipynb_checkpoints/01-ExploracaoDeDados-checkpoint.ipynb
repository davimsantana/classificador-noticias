{
 "cells": [
  {
   "cell_type": "code",
   "execution_count": 1,
   "id": "a1178c9c-f28d-43fb-9ded-0f73f04555f7",
   "metadata": {},
   "outputs": [],
   "source": [
    "import pandas as pd\n",
    "\n",
    "DATA_ARCHIVE_NAME = 'noticias.csv'\n",
    "\n",
    "df = pd.read_csv(DATA_ARCHIVE_NAME)"
   ]
  },
  {
   "cell_type": "code",
   "execution_count": 2,
   "id": "04665fe5-ba45-4afd-8550-aee1e7b5fbed",
   "metadata": {},
   "outputs": [
    {
     "name": "stdout",
     "output_type": "stream",
     "text": [
      "<class 'pandas.core.frame.DataFrame'>\n",
      "RangeIndex: 1000 entries, 0 to 999\n",
      "Data columns (total 4 columns):\n",
      " #   Column       Non-Null Count  Dtype \n",
      "---  ------       --------------  ----- \n",
      " 0   categoria    1000 non-null   object\n",
      " 1   title        1000 non-null   object\n",
      " 2   link         1000 non-null   object\n",
      " 3   description  998 non-null    object\n",
      "dtypes: object(4)\n",
      "memory usage: 31.4+ KB\n"
     ]
    }
   ],
   "source": [
    "df.info()"
   ]
  },
  {
   "cell_type": "code",
   "execution_count": 3,
   "id": "17a129a6-487a-4c03-920c-8d10d3aff8f9",
   "metadata": {},
   "outputs": [
    {
     "data": {
      "text/html": [
       "<div>\n",
       "<style scoped>\n",
       "    .dataframe tbody tr th:only-of-type {\n",
       "        vertical-align: middle;\n",
       "    }\n",
       "\n",
       "    .dataframe tbody tr th {\n",
       "        vertical-align: top;\n",
       "    }\n",
       "\n",
       "    .dataframe thead th {\n",
       "        text-align: right;\n",
       "    }\n",
       "</style>\n",
       "<table border=\"1\" class=\"dataframe\">\n",
       "  <thead>\n",
       "    <tr style=\"text-align: right;\">\n",
       "      <th></th>\n",
       "      <th>categoria</th>\n",
       "      <th>title</th>\n",
       "      <th>link</th>\n",
       "      <th>description</th>\n",
       "    </tr>\n",
       "  </thead>\n",
       "  <tbody>\n",
       "    <tr>\n",
       "      <th>0</th>\n",
       "      <td>economia</td>\n",
       "      <td>Mega-Sena, concurso 2.896: prêmio acumula e va...</td>\n",
       "      <td>https://g1.globo.com/loterias/mega-sena/notici...</td>\n",
       "      <td>O sorteio do concurso 2.896 da Mega-Sena foi r...</td>\n",
       "    </tr>\n",
       "    <tr>\n",
       "      <th>1</th>\n",
       "      <td>economia</td>\n",
       "      <td>Preço da carne de porco perde competitividade ...</td>\n",
       "      <td>https://g1.globo.com/sp/piracicaba-regiao/noti...</td>\n",
       "      <td>Em fevereiro, o preço da carcaça suína registr...</td>\n",
       "    </tr>\n",
       "    <tr>\n",
       "      <th>2</th>\n",
       "      <td>economia</td>\n",
       "      <td>Trump demite autoridade trabalhista dos EUA po...</td>\n",
       "      <td>https://g1.globo.com/economia/noticia/2025/08/...</td>\n",
       "      <td>Trump demite autoridade trabalhista dos EUA po...</td>\n",
       "    </tr>\n",
       "    <tr>\n",
       "      <th>3</th>\n",
       "      <td>economia</td>\n",
       "      <td>Após caso Master, governo aperta regras do Fun...</td>\n",
       "      <td>https://g1.globo.com/economia/noticia/2025/08/...</td>\n",
       "      <td>O governo federal decidiu endurecer as regras ...</td>\n",
       "    </tr>\n",
       "    <tr>\n",
       "      <th>4</th>\n",
       "      <td>economia</td>\n",
       "      <td>Agência de mineração cria divisão de minerais ...</td>\n",
       "      <td>https://g1.globo.com/economia/noticia/2025/08/...</td>\n",
       "      <td>A Agência Nacional de Mineração (ANM) anunciou...</td>\n",
       "    </tr>\n",
       "  </tbody>\n",
       "</table>\n",
       "</div>"
      ],
      "text/plain": [
       "  categoria                                              title  \\\n",
       "0  economia  Mega-Sena, concurso 2.896: prêmio acumula e va...   \n",
       "1  economia  Preço da carne de porco perde competitividade ...   \n",
       "2  economia  Trump demite autoridade trabalhista dos EUA po...   \n",
       "3  economia  Após caso Master, governo aperta regras do Fun...   \n",
       "4  economia  Agência de mineração cria divisão de minerais ...   \n",
       "\n",
       "                                                link  \\\n",
       "0  https://g1.globo.com/loterias/mega-sena/notici...   \n",
       "1  https://g1.globo.com/sp/piracicaba-regiao/noti...   \n",
       "2  https://g1.globo.com/economia/noticia/2025/08/...   \n",
       "3  https://g1.globo.com/economia/noticia/2025/08/...   \n",
       "4  https://g1.globo.com/economia/noticia/2025/08/...   \n",
       "\n",
       "                                         description  \n",
       "0  O sorteio do concurso 2.896 da Mega-Sena foi r...  \n",
       "1  Em fevereiro, o preço da carcaça suína registr...  \n",
       "2  Trump demite autoridade trabalhista dos EUA po...  \n",
       "3  O governo federal decidiu endurecer as regras ...  \n",
       "4  A Agência Nacional de Mineração (ANM) anunciou...  "
      ]
     },
     "execution_count": 3,
     "metadata": {},
     "output_type": "execute_result"
    }
   ],
   "source": [
    "df.head()"
   ]
  },
  {
   "cell_type": "code",
   "execution_count": 4,
   "id": "2487dee8-5afc-483d-9a6f-69fafebaf0bf",
   "metadata": {},
   "outputs": [
    {
     "data": {
      "text/plain": [
       "categoria\n",
       "economia         100\n",
       "saude            100\n",
       "educacao         100\n",
       "mundo            100\n",
       "politica         100\n",
       "meio ambiente    100\n",
       "pop-arte         100\n",
       "tecnologia       100\n",
       "turismo          100\n",
       "curiosidades     100\n",
       "Name: count, dtype: int64"
      ]
     },
     "execution_count": 4,
     "metadata": {},
     "output_type": "execute_result"
    }
   ],
   "source": [
    "df['categoria'].value_counts()"
   ]
  },
  {
   "cell_type": "code",
   "execution_count": 6,
   "id": "09cd268a-ab9d-4064-b515-36059ab7b205",
   "metadata": {},
   "outputs": [
    {
     "name": "stdout",
     "output_type": "stream",
     "text": [
      "Notícias encontradas sem descricao: \n",
      "    categoria                                              title  \\\n",
      "143     saude                             VÍDEOS: dicas de saúde   \n",
      "399     mundo  Vídeos: Terremoto provoca tsunami na Rússia, n...   \n",
      "\n",
      "                                                  link description  \n",
      "143  https://g1.globo.com/saude/playlist/videos-sau...         NaN  \n",
      "399  https://g1.globo.com/mundo/videos/playlist/vid...         NaN  \n"
     ]
    }
   ],
   "source": [
    "no_description_news = df[df['description'].isnull()]\n",
    "\n",
    "print(\"Notícias encontradas sem descricao: \")\n",
    "print(no_description_news)"
   ]
  },
  {
   "cell_type": "code",
   "execution_count": 7,
   "id": "8a3cbb05-3e19-4de5-a68d-022855997aaa",
   "metadata": {},
   "outputs": [
    {
     "name": "stdout",
     "output_type": "stream",
     "text": [
      "Tamanho original do DataFrame: 1000 linhas\n",
      "Tamanho do Dataframe após limpeza: 998 linhas\n",
      "\n",
      " [INFO] RESUMO DO DATAFRAME APÓS LIMPEZA:\n",
      "<class 'pandas.core.frame.DataFrame'>\n",
      "Index: 998 entries, 0 to 999\n",
      "Data columns (total 4 columns):\n",
      " #   Column       Non-Null Count  Dtype \n",
      "---  ------       --------------  ----- \n",
      " 0   categoria    998 non-null    object\n",
      " 1   title        998 non-null    object\n",
      " 2   link         998 non-null    object\n",
      " 3   description  998 non-null    object\n",
      "dtypes: object(4)\n",
      "memory usage: 39.0+ KB\n"
     ]
    }
   ],
   "source": [
    "print(f\"Tamanho original do DataFrame: {len(df)} linhas\")\n",
    "df.dropna(subset=['description'], inplace=True)\n",
    "print(f\"Tamanho do Dataframe após limpeza: {len(df)} linhas\")\n",
    "\n",
    "print(\"\\n [INFO] RESUMO DO DATAFRAME APÓS LIMPEZA:\")\n",
    "df.info()"
   ]
  },
  {
   "cell_type": "code",
   "execution_count": 8,
   "id": "327c35d2-954c-4207-82d5-b1fb2c084a36",
   "metadata": {},
   "outputs": [
    {
     "name": "stdout",
     "output_type": "stream",
     "text": [
      "Criando a feature 'texto_completo' a partir da juncao de 'title' e 'description'...\n",
      "\n",
      " Amostra das 5 primeiras notícias com a nova coluna:\n",
      "  categoria                                          full_text\n",
      "0  economia  Mega-Sena, concurso 2.896: prêmio acumula e va...\n",
      "1  economia  Preço da carne de porco perde competitividade ...\n",
      "2  economia  Trump demite autoridade trabalhista dos EUA po...\n",
      "3  economia  Após caso Master, governo aperta regras do Fun...\n",
      "4  economia  Agência de mineração cria divisão de minerais ...\n"
     ]
    }
   ],
   "source": [
    "print(\"Criando a feature 'texto_completo' a partir da juncao de 'title' e 'description'...\")\n",
    "\n",
    "df['full_text'] = df['title'] + ' ' + df['description']\n",
    "\n",
    "print(\"\\n Amostra das 5 primeiras notícias com a nova coluna:\")\n",
    "print(df[['categoria', 'full_text']].head())"
   ]
  },
  {
   "cell_type": "code",
   "execution_count": 9,
   "id": "25b3fde9-92b6-4566-adf7-0e469aa18760",
   "metadata": {},
   "outputs": [
    {
     "name": "stdout",
     "output_type": "stream",
     "text": [
      "--- Divisão de treino e teste concluída ---\n",
      "Tamanho do conjunto de Treino (X_training): 798 notícias\n",
      "Tamanho do conjunto de teste (X_test): 200 notícias\n",
      "\n",
      "Categorias para o conjunto de Treino (y_training): \n"
     ]
    },
    {
     "ename": "NameError",
     "evalue": "name 'y_treino' is not defined",
     "output_type": "error",
     "traceback": [
      "\u001b[31m---------------------------------------------------------------------------\u001b[39m",
      "\u001b[31mNameError\u001b[39m                                 Traceback (most recent call last)",
      "\u001b[36mCell\u001b[39m\u001b[36m \u001b[39m\u001b[32mIn[9]\u001b[39m\u001b[32m, line 19\u001b[39m\n\u001b[32m     16\u001b[39m \u001b[38;5;28mprint\u001b[39m(\u001b[33mf\u001b[39m\u001b[33m\"\u001b[39m\u001b[33mTamanho do conjunto de teste (X_test): \u001b[39m\u001b[38;5;132;01m{\u001b[39;00m\u001b[38;5;28mlen\u001b[39m(X_test)\u001b[38;5;132;01m}\u001b[39;00m\u001b[33m notícias\u001b[39m\u001b[33m\"\u001b[39m)\n\u001b[32m     18\u001b[39m \u001b[38;5;28mprint\u001b[39m(\u001b[33mf\u001b[39m\u001b[33m\"\u001b[39m\u001b[38;5;130;01m\\n\u001b[39;00m\u001b[33mCategorias para o conjunto de Treino (y_training): \u001b[39m\u001b[33m\"\u001b[39m)\n\u001b[32m---> \u001b[39m\u001b[32m19\u001b[39m \u001b[38;5;28mprint\u001b[39m(\u001b[43my_treino\u001b[49m.value_counts())\n\u001b[32m     21\u001b[39m \u001b[38;5;28mprint\u001b[39m(\u001b[33mf\u001b[39m\u001b[33m\"\u001b[39m\u001b[38;5;130;01m\\n\u001b[39;00m\u001b[33mCategorias para o conjunto de Teste (y_test): \u001b[39m\u001b[33m\"\u001b[39m)\n\u001b[32m     22\u001b[39m \u001b[38;5;28mprint\u001b[39m(y_teste.value_counts())\n",
      "\u001b[31mNameError\u001b[39m: name 'y_treino' is not defined"
     ]
    }
   ],
   "source": [
    "from sklearn.model_selection import train_test_split\n",
    "\n",
    "X = df['full_text'] \n",
    "y = df['categoria']\n",
    "\n",
    "X_training, X_test, y_training, y_test = train_test_split(\n",
    "    X,\n",
    "    y,\n",
    "    test_size=0.2,\n",
    "    random_state=42,\n",
    "    stratify=y\n",
    ")\n",
    "\n",
    "print(\"--- Divisão de treino e teste concluída ---\")\n",
    "print(f\"Tamanho do conjunto de Treino (X_training): {len(X_training)} notícias\")\n",
    "print(f\"Tamanho do conjunto de teste (X_test): {len(X_test)} notícias\")\n",
    "\n",
    "print(f\"\\nCategorias para o conjunto de Treino (y_training): \")\n",
    "print(y_training.value_counts())\n",
    "\n",
    "print(f\"\\nCategorias para o conjunto de Teste (y_test): \")\n",
    "print(y_test.value_counts())"
   ]
  },
  {
   "cell_type": "code",
   "execution_count": null,
   "id": "434b51ab-0da4-4000-b18f-b8f8546e5b49",
   "metadata": {},
   "outputs": [],
   "source": []
  }
 ],
 "metadata": {
  "kernelspec": {
   "display_name": "Python 3 (ipykernel)",
   "language": "python",
   "name": "python3"
  },
  "language_info": {
   "codemirror_mode": {
    "name": "ipython",
    "version": 3
   },
   "file_extension": ".py",
   "mimetype": "text/x-python",
   "name": "python",
   "nbconvert_exporter": "python",
   "pygments_lexer": "ipython3",
   "version": "3.13.3"
  }
 },
 "nbformat": 4,
 "nbformat_minor": 5
}
